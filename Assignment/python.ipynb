{
  "nbformat": 4,
  "nbformat_minor": 0,
  "metadata": {
    "colab": {
      "provenance": []
    },
    "kernelspec": {
      "name": "python3",
      "display_name": "Python 3"
    },
    "language_info": {
      "name": "python"
    }
  },
  "cells": [
    {
      "cell_type": "markdown",
      "source": [
        "1).What are the types of Applications?\n",
        "\n",
        "Ans :- Applications come in all shapes and sizes, designed to make our lives easier, more fun, or more productive. From web apps like Google Docs to mobile apps like WhatsApp, and from desktop staples like Microsoft Office to gaming favorites like Fortnite, there's an app for everything. Whether it's managing business with enterprise software like SAP or learning new skills with educational apps like Duolingo, each type serves a unique purpose."
      ],
      "metadata": {
        "id": "meEE8-RSfeMd"
      }
    },
    {
      "cell_type": "markdown",
      "source": [
        "2).What is programing?\n",
        "\n",
        "Ans :- Programming is like teaching a computer to do what you want it to do. You write a set of instructions, called code, in a language the computer understands, like Python or Java. Through this process, you can create software, websites, games, and much more, enabling computers to perform tasks ranging from simple calculations to complex data processing. Think of it as giving a computer a detailed recipe to follow!"
      ],
      "metadata": {
        "id": "533nWWBagjXZ"
      }
    },
    {
      "cell_type": "markdown",
      "source": [
        "3).What is Python?\n",
        "\n",
        "Sure thing! Think of Python as a friendly language that lets you talk to your computer and tell it what to do. It's super easy to read and write, almost like English, which makes it perfect for beginners. You can use Python for all sorts of things like building websites, analyzing data, creating cool AI projects, or even automating boring tasks. It's kind of like having a Swiss Army knife for programming—versatile and handy for almost anything you can think of."
      ],
      "metadata": {
        "id": "gnOaUkmKhRh6"
      }
    },
    {
      "cell_type": "code",
      "source": [
        "# 4).Write a Python program to check if a number is positive, negative or zero.\n",
        "\n",
        "num = float(input(\"Enter a number: \"))\n",
        "if num > 0:\n",
        "   print(\"Positive number\")\n",
        "elif num == 0:\n",
        "   print(\"Zero\")\n",
        "else:\n",
        "   print(\"Negative number\")"
      ],
      "metadata": {
        "colab": {
          "base_uri": "https://localhost:8080/"
        },
        "id": "u6175orshv2O",
        "outputId": "eae5b8ae-8e81-4cfa-a1fc-e3e0e7490458"
      },
      "execution_count": null,
      "outputs": [
        {
          "output_type": "stream",
          "name": "stdout",
          "text": [
            "Enter a number: 25.23\n",
            "Positive number\n"
          ]
        }
      ]
    },
    {
      "cell_type": "code",
      "source": [
        "# 5).Write a Python program to get the Factorial number of given numbers.\n",
        "\n",
        "num = input(\"Enter a number: \")\n",
        "factorial = 1\n",
        "if int(num) >= 1:\n",
        "  for i in range (1,int(num)+1):\n",
        "    factorial = factorial * i\n",
        "print(\"Factorial of \", num, \" is \", factorial)"
      ],
      "metadata": {
        "colab": {
          "base_uri": "https://localhost:8080/"
        },
        "id": "D4arU7f2iNiB",
        "outputId": "36d9ba12-db3e-405a-aef3-3e2629933213"
      },
      "execution_count": null,
      "outputs": [
        {
          "output_type": "stream",
          "name": "stdout",
          "text": [
            "Enter a number: 12\n",
            "Factorial of  12  is  479001600\n"
          ]
        }
      ]
    },
    {
      "cell_type": "code",
      "source": [
        "# 6).Write a Python program to get the Fibonacci series of given range.\n",
        "\n",
        "num = int(input(\"Enter a number: \"))\n",
        "n1, n2 = 1, 5\n",
        "print(\"Fibonacci Series:\", n1, n2, end=\" \")\n",
        "for i in range(2, num):\n",
        "  n3 = n1 + n2\n",
        "  n1 = n2\n",
        "  n2 = n3\n",
        "  print(n3, end=\" \")"
      ],
      "metadata": {
        "colab": {
          "base_uri": "https://localhost:8080/"
        },
        "id": "abA3FGSEleGl",
        "outputId": "8b583352-32e4-4623-b8aa-cfe10dbc7e4b"
      },
      "execution_count": null,
      "outputs": [
        {
          "output_type": "stream",
          "name": "stdout",
          "text": [
            "Enter a number: 10\n",
            "Fibonacci Series: 1 5 6 11 17 28 45 73 118 191 "
          ]
        }
      ]
    },
    {
      "cell_type": "markdown",
      "source": [
        "7).How memory is managed in Python?\n",
        "\n",
        "Ans :- Python automatically manages memory, freeing up unused objects and optimizing storage, so you can focus on coding without worrying about memory details. It does this through dynamic allocation, garbage collection, and reference counting."
      ],
      "metadata": {
        "id": "kH4-PXiQpIjy"
      }
    },
    {
      "cell_type": "markdown",
      "source": [
        "8).What is the purpose continuing statement in python?\n",
        "\n",
        "The continue statement in Python is like saying, \"Skip this one and move on!\" When the program hits continue inside a loop, it jumps straight to the next iteration without finishing the current one. It's handy when you want to bypass certain steps based on a condition, like ignoring even numbers in a list and only processing the odd ones."
      ],
      "metadata": {
        "id": "Nn9441NipJdr"
      }
    },
    {
      "cell_type": "code",
      "source": [
        "# 9). Write python program that swap two number with temp variable and without temp variable.\n",
        "\n",
        "num1 = input('Enter First Number: ')\n",
        "num2 = input('Enter Second Number: ')\n",
        "\n",
        "def swapNumbers(num1,num2):\n",
        "  temp = num1\n",
        "  num1 = num2\n",
        "  num2 = temp\n",
        "  return num1,num2\n",
        "\n",
        "print('Before swapping: ',num1, num2)\n",
        "num1, num2 = swapNumbers(num1, num2)\n",
        "print('After swapping: ',num1,num2)"
      ],
      "metadata": {
        "colab": {
          "base_uri": "https://localhost:8080/"
        },
        "id": "sl9FfHF8pEV0",
        "outputId": "ebdb8995-3e94-490c-95b8-628a811427a8"
      },
      "execution_count": null,
      "outputs": [
        {
          "output_type": "stream",
          "name": "stdout",
          "text": [
            "Enter First Number: 15\n",
            "Enter Second Number: 89\n",
            "Before swapping:  15 89\n",
            "After swapping:  89 15\n"
          ]
        }
      ]
    },
    {
      "cell_type": "code",
      "source": [
        "# 10).Write a Python program to find whether a given number is even or odd, print out an appropriate message to the user.\n",
        "\n",
        "num = int(input(\"Enter a number: \"))\n",
        "if (num % 2) == 0:\n",
        "   print(num,\"is Even\")\n",
        "else:\n",
        "   print(num ,\"is Odd\")"
      ],
      "metadata": {
        "colab": {
          "base_uri": "https://localhost:8080/"
        },
        "id": "AMpglnX0q3rQ",
        "outputId": "d0e3251b-bdc7-4515-a67b-0926a67050b6"
      },
      "execution_count": null,
      "outputs": [
        {
          "output_type": "stream",
          "name": "stdout",
          "text": [
            "Enter a number: 22\n",
            "22 is Even\n"
          ]
        }
      ]
    },
    {
      "cell_type": "code",
      "source": [
        "# 11).Write a Python program to test whether a passed letter is a vowel or not.\n",
        "\n",
        "char = input(\"Enter a character: \")\n",
        "\n",
        "if char.lower() in ('a', 'e', 'i', 'o', 'u'):\n",
        "    print(char, \"is a vowel.\")\n",
        "else:\n",
        "    print(char, \"is not a vowel.\")\n"
      ],
      "metadata": {
        "colab": {
          "base_uri": "https://localhost:8080/"
        },
        "id": "7YSoWbwVq3dn",
        "outputId": "c0cf0e83-471a-4066-b108-0a412bda7d82"
      },
      "execution_count": null,
      "outputs": [
        {
          "output_type": "stream",
          "name": "stdout",
          "text": [
            "Enter a character: A\n",
            "A is a vowel.\n"
          ]
        }
      ]
    },
    {
      "cell_type": "code",
      "source": [
        "# 12).Write a Python program to add of three given integers. However, if two values are equal sum will be zero.\n",
        "\n",
        "num1 = input('Enter First Number: ')\n",
        "num2 = input('Enter Second Number: ')\n",
        "num3 = input('Enter Third Number: ')\n",
        "def sum(x,y,z):\n",
        "  if x == y or y == z or x==z:\n",
        "    sum = 0\n",
        "  else:\n",
        "    sum = x + y + z\n",
        "  return sum\n",
        "\n",
        "print(sum(int(num1),int(num2),int(num3)))"
      ],
      "metadata": {
        "id": "sphGz8VJuUvG",
        "colab": {
          "base_uri": "https://localhost:8080/"
        },
        "outputId": "c5eecdb3-764f-46b8-e3ca-7e7f77fd241e"
      },
      "execution_count": null,
      "outputs": [
        {
          "output_type": "stream",
          "name": "stdout",
          "text": [
            "Enter First Number: 5\n",
            "Enter Second Number: 8\n",
            "Enter Third Number: 5\n",
            "0\n"
          ]
        }
      ]
    },
    {
      "cell_type": "code",
      "source": [
        "# 13).Write a Python program that will return true if the two given integer values are equal or their sum or difference is 5.\n",
        "\n",
        "num1 = input('Enter First Number: ')\n",
        "num2 = input('Enter Second Number: ')\n",
        "def test(x, y):\n",
        "  if x == y or abs(x-y) == 5 or (x+y) == 5:\n",
        "    return True\n",
        "  else:\n",
        "    return False\n",
        "print(test(int(num1),int(num2)))\n"
      ],
      "metadata": {
        "colab": {
          "base_uri": "https://localhost:8080/"
        },
        "id": "_j9NuvGqGtgo",
        "outputId": "e0d621e6-4d74-47dd-fa8d-2597f79f3c4e"
      },
      "execution_count": null,
      "outputs": [
        {
          "output_type": "stream",
          "name": "stdout",
          "text": [
            "Enter First Number: 4\n",
            "Enter Second Number: 6\n",
            "False\n"
          ]
        }
      ]
    },
    {
      "cell_type": "code",
      "source": [
        "#14). Write a python program to sum of the first n positive integers.\n",
        "\n",
        "n = int(input(\"Input a number: \"))\n",
        "sum_num = (n * (n+1)) / 2\n",
        "print(\"Sum of the first\", n ,\"positive integers:\", sum_num)"
      ],
      "metadata": {
        "colab": {
          "base_uri": "https://localhost:8080/"
        },
        "id": "CjXdLt09KSe7",
        "outputId": "7b7d3c03-9135-4523-922a-6ac7ef342993"
      },
      "execution_count": null,
      "outputs": [
        {
          "output_type": "stream",
          "name": "stdout",
          "text": [
            "Input a number: 10\n",
            "Sum of the first 10 positive integers: 55.0\n"
          ]
        }
      ]
    },
    {
      "cell_type": "code",
      "source": [
        "#15).Write a Python program to calculate the length of a string.\n",
        "\n",
        "str = input(\"Enter a string: \")\n",
        "counter = 0\n",
        "for s in str:\n",
        "      counter = counter+1\n",
        "print(\"Length of the input string is:\", counter)"
      ],
      "metadata": {
        "colab": {
          "base_uri": "https://localhost:8080/"
        },
        "id": "rRZyQnvFLCAq",
        "outputId": "31832f55-3a20-42d3-e77e-623273db97b6"
      },
      "execution_count": null,
      "outputs": [
        {
          "output_type": "stream",
          "name": "stdout",
          "text": [
            "Enter a string: tf\n",
            "Length of the input string is: 2\n"
          ]
        }
      ]
    },
    {
      "cell_type": "code",
      "source": [
        "#16). Write a Python program to count the number of characters(character frequency) in a string.\n",
        "\n",
        "str1 = input(\"Enter a string: \")\n",
        "d = {}\n",
        "for c in str1:\n",
        "    if c in d:\n",
        "        d[c] = d[c] + 1\n",
        "    else:\n",
        "        d[c] = 1\n",
        "print(d)\n"
      ],
      "metadata": {
        "colab": {
          "base_uri": "https://localhost:8080/"
        },
        "id": "oIzhjbNiLOAy",
        "outputId": "0168a58c-31c1-41a8-8f43-4331ba56fa77"
      },
      "execution_count": null,
      "outputs": [
        {
          "output_type": "stream",
          "name": "stdout",
          "text": [
            "Enter a string:  \n",
            "{' ': 1}\n"
          ]
        }
      ]
    },
    {
      "cell_type": "markdown",
      "source": [
        "17).What are negative indexes and why are they used?\n",
        "\n",
        "Ans:negative indexes in Python as a shortcut to grab items starting from the end of a list. It's like saying, \"Hey, give me the last item\" without having to count how many items are in the list. For example, if you use list[-1], you're asking for the very last item in the list, and if you use list[-2], you get the second to last item."
      ],
      "metadata": {
        "id": "2TrFv-SeMKp4"
      }
    },
    {
      "cell_type": "code",
      "source": [
        "#18).Write a Python program to count occurrences of a substring in a string.\n",
        "\n",
        "str1 = 'The quick brown fox jumps over the lazy dog.'\n",
        "print()\n",
        "print(str1.count(\"o\"))\n",
        "print()"
      ],
      "metadata": {
        "colab": {
          "base_uri": "https://localhost:8080/"
        },
        "id": "yCiwzbEANIFb",
        "outputId": "be8f2a53-bc12-4ee1-a236-2531428cdb50"
      },
      "execution_count": null,
      "outputs": [
        {
          "output_type": "stream",
          "name": "stdout",
          "text": [
            "\n",
            "4\n",
            "\n"
          ]
        }
      ]
    },
    {
      "cell_type": "code",
      "source": [
        "#19). Write a Python program to count the occurrences of each word in a given sentence.\n",
        "\n",
        "str1 = input(\"Enter a string: \")\n",
        "d = dict()\n",
        "str1 = str1.split()\n",
        "for word in str1:\n",
        "    if word in d:\n",
        "        d[word] = d[word] + 1\n",
        "    else:\n",
        "        d[word] = 1\n",
        "for key in list(d.keys()):\n",
        "    print(key, \":\", d[key])\n"
      ],
      "metadata": {
        "colab": {
          "base_uri": "https://localhost:8080/"
        },
        "id": "ZAsTeGwFNiz4",
        "outputId": "8b746892-85b0-4bbe-a13c-bd751ab5b6bd"
      },
      "execution_count": null,
      "outputs": [
        {
          "output_type": "stream",
          "name": "stdout",
          "text": [
            "Enter a string: hello name is hello\n",
            "hello : 2\n",
            "name : 1\n",
            "is : 1\n"
          ]
        }
      ]
    },
    {
      "cell_type": "code",
      "source": [
        "#20). Write a Python program to get a single string from two given strings, separated by a space and swap the first two characters of each string. using input\n",
        "\n",
        "str1 = input(\"Enter a string: \")\n",
        "str2 = input(\"Enter a string: \")\n",
        "x = str2[:2] + str1[2:]\n",
        "y = str1[:2] + str2[2:]\n",
        "print(x,y)"
      ],
      "metadata": {
        "colab": {
          "base_uri": "https://localhost:8080/"
        },
        "id": "C3tBXpDZORG8",
        "outputId": "7d37d3f3-f196-4f66-a767-0fd5ca63cb92"
      },
      "execution_count": null,
      "outputs": [
        {
          "output_type": "stream",
          "name": "stdout",
          "text": [
            "Enter a string: abc\n",
            "Enter a string: dfc\n",
            "dfc abc\n"
          ]
        }
      ]
    },
    {
      "cell_type": "code",
      "source": [
        "#21). Write a Python program to add 'in' at the end of a given string (length should be at least 3). If the given string already ends with 'ing' then add 'ly' instead if the string length of the given string is less than 3, leave it unchanged.\n",
        "\n",
        "str1 = input(\"Enter a string: \")\n",
        "if len(str1) > 2:\n",
        "    if str1[-3:] == 'ing':\n",
        "      str1 += 'ly'\n",
        "    else:\n",
        "      str1 += 'ing'\n",
        "print(str1)"
      ],
      "metadata": {
        "colab": {
          "base_uri": "https://localhost:8080/"
        },
        "id": "iDE_y6aCO_8S",
        "outputId": "54cc443a-3973-4f6b-baa4-33d22351dd75"
      },
      "execution_count": null,
      "outputs": [
        {
          "output_type": "stream",
          "name": "stdout",
          "text": [
            "Enter a string: hj\n",
            "hj\n"
          ]
        }
      ]
    },
    {
      "cell_type": "code",
      "source": [
        "#22). Write a Python function to reverses a string if its length is a multiple of 4.\n",
        "\n",
        "str1 = input(\"Enter a string: \")\n",
        "if len(str1) % 4 == 0:\n",
        "    print(str1[::-1])\n",
        "else:\n",
        "    print(\"Can't reverse it\")"
      ],
      "metadata": {
        "colab": {
          "base_uri": "https://localhost:8080/"
        },
        "id": "qptVzaEUPyXm",
        "outputId": "e45d440c-1f1f-4fa7-b829-8e3821d47314"
      },
      "execution_count": null,
      "outputs": [
        {
          "output_type": "stream",
          "name": "stdout",
          "text": [
            "Enter a string: abcd\n",
            "dcba\n"
          ]
        }
      ]
    },
    {
      "cell_type": "code",
      "source": [
        "#23). Write a Python program to get a string made of the first 2 and the last 2 chars from a given a string. If the string length is less than 2, return instead of the empty string.\n",
        "\n",
        "str1 = input(\"Enter a string: \")\n",
        "if len(str1) < 2:\n",
        "    print(\"Empty String\")\n",
        "else:\n",
        "    print(str1[0:2] + str1[-2:])"
      ],
      "metadata": {
        "colab": {
          "base_uri": "https://localhost:8080/"
        },
        "id": "hHQk1lwIQG_X",
        "outputId": "7ed5b37c-3c3a-4d5d-fddf-86224b4b6a9b"
      },
      "execution_count": null,
      "outputs": [
        {
          "output_type": "stream",
          "name": "stdout",
          "text": [
            "Enter a string: h\n",
            "Empty String\n"
          ]
        }
      ]
    },
    {
      "cell_type": "code",
      "source": [
        "#24). Write a Python function to insert a string in the middle of a string.\n",
        "\n",
        "str1 = input(\"Enter a string: \")\n",
        "str2 = input(\"Enter a string: \")\n",
        "mid_index = len(str1) // 2\n",
        "result = str1[:mid_index] + str2 + str1[mid_index:]\n",
        "print(result)\n",
        "\n",
        "\n"
      ],
      "metadata": {
        "colab": {
          "base_uri": "https://localhost:8080/"
        },
        "id": "uur72Qx0Qh1n",
        "outputId": "50b9e686-1304-444a-ceea-ddef5533cf40"
      },
      "execution_count": null,
      "outputs": [
        {
          "output_type": "stream",
          "name": "stdout",
          "text": [
            "Enter a string: dgf\n",
            "Enter a string: hgf\n",
            "dhgfgf\n"
          ]
        }
      ]
    },
    {
      "cell_type": "markdown",
      "source": [
        "25). What is List? How will you reverse a list?\n",
        "\n",
        "Ans :- A list in Python is like a flexible container that can hold all sorts of items—numbers, words, other lists, you name it. You can think of it as a grocery list, where you can keep adding or removing items as needed.\n",
        "\n",
        "=>To reverse a list, you have a few easy options:\n",
        "\n",
        "=>Use the reverse() method to flip the list in place, like shaking a snow globe to rearrange the scene.\n",
        "\n",
        "=>Use slicing [::-1] to create a new list that's a mirror image of the original.\n",
        "\n",
        "=>Use the reversed() function, which is like hitting rewind on a video to see the action play out backwards."
      ],
      "metadata": {
        "id": "O3SdOuCJYQTB"
      }
    },
    {
      "cell_type": "markdown",
      "source": [
        "26). How will you remove last object from a list?\n",
        "\n",
        "Ans :- To remove the last item from a Python list, use pop(), slicing [:-1], or del. Each method effectively shortens the list by removing the final element."
      ],
      "metadata": {
        "id": "DKyV9AwwaAVh"
      }
    },
    {
      "cell_type": "markdown",
      "source": [
        "27). Suppose list1 is [2, 33, 222, 14, and 25], what is list1 [-1]?\n",
        "\n",
        "Ans :- When you use list1[-1], it accesses the last element of the list. So, for the list [2, 33, 222, 14, 25], list1[-1] would give you 25."
      ],
      "metadata": {
        "id": "1gk5eVUMa3a4"
      }
    },
    {
      "cell_type": "markdown",
      "source": [
        "28). Differentiate between append () and extend () methods?\n",
        "\n",
        "Ans :- Use append() when you want to add a single item to the end of the list.\n",
        "\n",
        "=>Use extend() when you want to add multiple items from another list or iterable to the end of your list."
      ],
      "metadata": {
        "id": "Xfl8Pn1abQKy"
      }
    },
    {
      "cell_type": "code",
      "source": [
        "#29). Write a Python function to get the largest number, smallest num and sum of all from a list.use input list\n",
        "\n",
        "list = []\n",
        "num = int(input('How many numbers: '))\n",
        "for n in range(num):\n",
        "    numbers = int(input('Enter number '))\n",
        "    list.append(numbers)\n",
        "print(\"Maximum element in the list is :\", max(list), \"\\nMinimum element in the list is :\", min(list))"
      ],
      "metadata": {
        "id": "k35pww0Kbipe",
        "colab": {
          "base_uri": "https://localhost:8080/"
        },
        "outputId": "8a97d28c-ff2f-4f18-b89c-e380ba0ed37e"
      },
      "execution_count": null,
      "outputs": [
        {
          "output_type": "stream",
          "name": "stdout",
          "text": [
            "How many numbers: 5\n",
            "Enter number 25\n",
            "Enter number 645\n",
            "Enter number 112\n",
            "Enter number -256\n",
            "Enter number 589\n",
            "Maximum element in the list is : 645 \n",
            "Minimum element in the list is : -256\n"
          ]
        }
      ]
    },
    {
      "cell_type": "markdown",
      "source": [
        "30). How will you compare two lists?\n",
        "\n",
        "Ans :- To compare two lists in Python, you can use the == operator for direct comparison, set() for unordered comparison, or collections.Counter for frequency comparison. Each method caters to different comparison needs like order, element presence, or element frequency."
      ],
      "metadata": {
        "id": "mj_0_k-snu-d"
      }
    },
    {
      "cell_type": "code",
      "source": [
        "#31).Write a Python program to count the number of strings where the string length is 2 or more and the first and last character are same from a given list of strings.\n",
        "\n",
        "def match_words(words):\n",
        "  ctr = 0\n",
        "\n",
        "  for word in words:\n",
        "    if len(word) > 1 and word[0] == word[-1]:\n",
        "      ctr += 1\n",
        "  return ctr\n",
        "print(match_words(['aa', 'x', 'aba', '1']))"
      ],
      "metadata": {
        "colab": {
          "base_uri": "https://localhost:8080/"
        },
        "id": "5sHcCYv1oH7s",
        "outputId": "579a543f-ba93-4f2e-ae73-3f1b6f437093"
      },
      "execution_count": null,
      "outputs": [
        {
          "output_type": "stream",
          "name": "stdout",
          "text": [
            "2\n"
          ]
        }
      ]
    },
    {
      "cell_type": "code",
      "source": [
        "#32). Write a Python program to remove duplicates from a list.\n",
        "\n",
        "list = []\n",
        "num = int(input('How many numbers: '))\n",
        "for n in range(num):\n",
        "    numbers = int(input('Enter number '))\n",
        "    list.append(numbers)\n",
        "    new_list = set(list)\n",
        "print(new_list)"
      ],
      "metadata": {
        "colab": {
          "base_uri": "https://localhost:8080/"
        },
        "id": "k02shC9spP-g",
        "outputId": "a9350561-a24a-4e19-8a83-2b2dc5bd9d3c"
      },
      "execution_count": null,
      "outputs": [
        {
          "output_type": "stream",
          "name": "stdout",
          "text": [
            "How many numbers: 4\n",
            "Enter number 15\n",
            "Enter number 25\n",
            "Enter number 25\n",
            "Enter number 02\n",
            "{25, 2, 15}\n"
          ]
        }
      ]
    },
    {
      "cell_type": "code",
      "source": [
        "#33). Write a Python program to check a list is empty or not.\n",
        "\n",
        "list = [25]\n",
        "if len(list) == 0:\n",
        "    print(\"List is empty\")\n",
        "else:\n",
        "    print(\"List is not empty\")"
      ],
      "metadata": {
        "colab": {
          "base_uri": "https://localhost:8080/"
        },
        "id": "P71DQY5zsOE4",
        "outputId": "e5ca2f34-094c-4080-df13-3862ed0fe34d"
      },
      "execution_count": null,
      "outputs": [
        {
          "output_type": "stream",
          "name": "stdout",
          "text": [
            "List is not empty\n"
          ]
        }
      ]
    },
    {
      "cell_type": "code",
      "source": [
        "#34). Write a Python function that takes two lists and returns true if they have at least one common member.\n",
        "\n",
        "def common_data(list1, list2):\n",
        "     result = False\n",
        "     for x in list1:\n",
        "         for y in list2:\n",
        "             if x == y:\n",
        "                 result = True\n",
        "                 return result\n",
        "print(common_data([1,2,3,4,5], [1,6,7,8,9]))"
      ],
      "metadata": {
        "colab": {
          "base_uri": "https://localhost:8080/"
        },
        "id": "aQX1STXAsgtn",
        "outputId": "3a27a07a-e712-4d5f-d5f7-f933c19a947b"
      },
      "execution_count": null,
      "outputs": [
        {
          "output_type": "stream",
          "name": "stdout",
          "text": [
            "True\n"
          ]
        }
      ]
    },
    {
      "cell_type": "code",
      "source": [
        "#35). Write a Python program to generate and print a list of first and last 5 elements where the values are square of numbers between 1 and 30.\n",
        "\n",
        "def printValues():\n",
        "    l = []\n",
        "    for i in range(1,21):\n",
        "        l.append(i**2)\n",
        "    print(l[:5])\n",
        "    print(l[-5:])\n",
        "printValues()"
      ],
      "metadata": {
        "colab": {
          "base_uri": "https://localhost:8080/"
        },
        "id": "OgxncovLtG22",
        "outputId": "7495fd95-6d45-4fd0-93e9-a30c4bb946f6"
      },
      "execution_count": null,
      "outputs": [
        {
          "output_type": "stream",
          "name": "stdout",
          "text": [
            "[1, 4, 9, 16, 25]\n",
            "[256, 289, 324, 361, 400]\n"
          ]
        }
      ]
    },
    {
      "cell_type": "code",
      "source": [
        "#36). Write a Python function that takes a list and returns a new list with unique elements of the first list.\n",
        "\n",
        "def unique_list(l):\n",
        "  x = []\n",
        "  for a in l:\n",
        "    if a not in x:\n",
        "      x.append(a)\n",
        "  return x\n",
        "print(unique_list([1,2,3,3,3,3,4,5]))"
      ],
      "metadata": {
        "colab": {
          "base_uri": "https://localhost:8080/"
        },
        "id": "gUrtuLchuP7X",
        "outputId": "82af5b87-f073-4e9d-ce47-37dbe87035a8"
      },
      "execution_count": null,
      "outputs": [
        {
          "output_type": "stream",
          "name": "stdout",
          "text": [
            "[1, 2, 3, 4, 5]\n"
          ]
        }
      ]
    },
    {
      "cell_type": "code",
      "source": [
        "#37). Write a Python program to convert a list of characters into a string.\n",
        "\n",
        "s = ['a', 'b', 'c', 'd']\n",
        "str1 = ''.join(s)\n",
        "print(str1)"
      ],
      "metadata": {
        "colab": {
          "base_uri": "https://localhost:8080/"
        },
        "id": "LfWPNL6puj7L",
        "outputId": "487da107-030b-4040-d794-fe748422ad5d"
      },
      "execution_count": null,
      "outputs": [
        {
          "output_type": "stream",
          "name": "stdout",
          "text": [
            "abcd\n"
          ]
        }
      ]
    },
    {
      "cell_type": "code",
      "source": [
        "#38). Write a Python program to select an item randomly from a list.\n",
        "\n",
        "import random\n",
        "color_list = ['Red', 'Blue', 'Green', 'White', 'Black']\n",
        "print(random.choice(color_list))"
      ],
      "metadata": {
        "colab": {
          "base_uri": "https://localhost:8080/"
        },
        "id": "M7j5ebJJux6C",
        "outputId": "a7c00f18-64d2-4072-e292-bc8e2d3a5c72"
      },
      "execution_count": null,
      "outputs": [
        {
          "output_type": "stream",
          "name": "stdout",
          "text": [
            "White\n"
          ]
        }
      ]
    },
    {
      "cell_type": "code",
      "source": [
        "#39). Write a Python program to find the second smallest number in a list\n",
        "\n",
        "def second_smallest(numbers):\n",
        "  if (len(numbers)<2):\n",
        "    return\n",
        "  if ((len(numbers)==2)  and (numbers[0] == numbers[1]) ):\n",
        "    return\n",
        "  dup_items = set()\n",
        "  uniq_items = []\n",
        "  for x in numbers:\n",
        "    if x not in dup_items:\n",
        "      uniq_items.append(x)\n",
        "      dup_items.add(x)\n",
        "  uniq_items.sort()\n",
        "  return  uniq_items[1]\n",
        "print(second_smallest([1, 2, -8, 2, 0, -2]))"
      ],
      "metadata": {
        "colab": {
          "base_uri": "https://localhost:8080/"
        },
        "id": "c1VcBUWFu6_Z",
        "outputId": "ee24d7e3-ca65-4d5f-d772-54050f554487"
      },
      "execution_count": null,
      "outputs": [
        {
          "output_type": "stream",
          "name": "stdout",
          "text": [
            "-2\n",
            "0\n"
          ]
        }
      ]
    },
    {
      "cell_type": "code",
      "source": [
        "#40). Write a Python program to get unique values from a list.\n",
        "\n",
        "my_list = [10, 20, 30, 40, 20, 50, 60, 40]\n",
        "print(\"Original List : \",my_list)\n",
        "my_set = set(my_list)\n",
        "my_new_list = [my_set]\n",
        "print(\"List of unique numbers : \",my_new_list)"
      ],
      "metadata": {
        "colab": {
          "base_uri": "https://localhost:8080/"
        },
        "id": "bOyDVcTRx9GL",
        "outputId": "dceeda4b-dfd7-4286-eeb2-1a23d65af08a"
      },
      "execution_count": null,
      "outputs": [
        {
          "output_type": "stream",
          "name": "stdout",
          "text": [
            "Original List :  [10, 20, 30, 40, 20, 50, 60, 40]\n",
            "List of unique numbers :  [{40, 10, 50, 20, 60, 30}]\n"
          ]
        }
      ]
    },
    {
      "cell_type": "code",
      "source": [
        "#41). Write a Python program to check whether a list contains a sub list.\n",
        "\n",
        "list1 = [2,4,3,5,7]\n",
        "list2 = [4,3]\n",
        "result = False\n",
        "for x in list1:\n",
        "    for y in list2:\n",
        "        if x == y:\n",
        "            result = True\n",
        "print(result)"
      ],
      "metadata": {
        "id": "kJQNxXFkJ8Dd",
        "colab": {
          "base_uri": "https://localhost:8080/"
        },
        "outputId": "f5d45b14-65e5-46ba-a07c-c5f7d6153bd2"
      },
      "execution_count": null,
      "outputs": [
        {
          "output_type": "stream",
          "name": "stdout",
          "text": [
            "True\n"
          ]
        }
      ]
    },
    {
      "cell_type": "code",
      "source": [
        "#42). Write a Python program to split a list into different variables\n",
        "\n",
        "my_list = [1, 2, 3, 4, 5]\n",
        "\n",
        "a, b, c, d, e = my_list\n",
        "\n",
        "print(a)\n",
        "print(b)\n",
        "print(c)\n",
        "print(d)\n",
        "print(e)\n"
      ],
      "metadata": {
        "colab": {
          "base_uri": "https://localhost:8080/"
        },
        "id": "8nUwNxQTjtA_",
        "outputId": "dd8481fc-5cfa-4c2d-85d7-c1b4f5ba7ca1"
      },
      "execution_count": null,
      "outputs": [
        {
          "output_type": "stream",
          "name": "stdout",
          "text": [
            "1\n",
            "2\n",
            "3\n",
            "4\n",
            "5\n"
          ]
        }
      ]
    },
    {
      "cell_type": "markdown",
      "source": [
        "43). What is tuple? Difference between list and tuple.\n",
        "\n",
        "Ans :- tuple in Python is similar to a list in that it can hold a collection of items.\n",
        "the key difference is that tuples are immutable, meaning once you create a tuple, you cannot modify its contents. This makes tuples useful for storing data that should not change."
      ],
      "metadata": {
        "id": "pDvIvDnNmntT"
      }
    },
    {
      "cell_type": "code",
      "source": [
        "#44). Write a Python program to create a tuple with different data types.\n",
        "\n",
        "tuple = (\"tuple\", False, 3.2, 1)\n",
        "print(tuple)"
      ],
      "metadata": {
        "colab": {
          "base_uri": "https://localhost:8080/"
        },
        "id": "icUGOPnAmYll",
        "outputId": "adb0a003-50c1-4eb5-b7a4-d40f8b863c06"
      },
      "execution_count": null,
      "outputs": [
        {
          "output_type": "stream",
          "name": "stdout",
          "text": [
            "('tuple', False, 3.2, 1)\n"
          ]
        }
      ]
    },
    {
      "cell_type": "code",
      "source": [
        "#45). Write a Python program to unzip a list of tuples into individual lists.\n",
        "\n",
        "l = [(1,2), (3,4), (8,9)]\n",
        "print(list(zip(*l)))"
      ],
      "metadata": {
        "colab": {
          "base_uri": "https://localhost:8080/"
        },
        "id": "0vr92cKdnAIB",
        "outputId": "b873d316-bb64-4ef0-e2d6-842e00db3f9d"
      },
      "execution_count": null,
      "outputs": [
        {
          "output_type": "stream",
          "name": "stdout",
          "text": [
            "[(1, 3, 8), (2, 4, 9)]\n"
          ]
        }
      ]
    },
    {
      "cell_type": "code",
      "source": [
        "#46). Write a Python program to convert a list of tuples into a dictionary.\n",
        "\n",
        "d = {}\n",
        "for a, b in l:\n",
        "    d.setdefault(a, []).append(b)\n",
        "print (d)"
      ],
      "metadata": {
        "colab": {
          "base_uri": "https://localhost:8080/"
        },
        "id": "gpnIUfS8nfMW",
        "outputId": "418035ea-fe60-4ae3-c85e-40166063d746"
      },
      "execution_count": null,
      "outputs": [
        {
          "output_type": "stream",
          "name": "stdout",
          "text": [
            "{1: [2], 3: [4], 8: [9]}\n"
          ]
        }
      ]
    },
    {
      "cell_type": "markdown",
      "source": [
        "47). How will you create a dictionary using tuples in python?\n",
        "\n",
        "Ans :- To create a dictionary from tuples in Python, use a list of key-value pair tuples and convert it with the dict() function.\n",
        "syntax for this is tuples_list = [(\"a\", 1), (\"b\", 2), (\"c\", 3)] my_dict= dict(tupple_list)."
      ],
      "metadata": {
        "id": "IM5_5WC0eof-"
      }
    },
    {
      "cell_type": "code",
      "source": [
        "#48). Write a Python script to sort (ascending and descending) a dictionary by value.\n",
        "\n",
        "a = {1: 2, 3: 4, 4: 3, 2: 1, 0: 0}\n",
        "print('Original dictionary : ',a)\n",
        "print('Dictionary in ascending order by value : ',sorted(a.items(), key=lambda x: x[1]))\n",
        "print('Dictionary in descending order by value : ',sorted(a.items(), key=lambda x: x[1],reverse=True))"
      ],
      "metadata": {
        "colab": {
          "base_uri": "https://localhost:8080/"
        },
        "id": "APLRu3Amfewi",
        "outputId": "4f7816f0-ac87-4986-a266-bf4e1214ebcd"
      },
      "execution_count": null,
      "outputs": [
        {
          "output_type": "stream",
          "name": "stdout",
          "text": [
            "Original dictionary :  {1: 2, 3: 4, 4: 3, 2: 1, 0: 0}\n",
            "Dictionary in ascending order by value :  [(0, 0), (2, 1), (1, 2), (4, 3), (3, 4)]\n",
            "Dictionary in descending order by value :  [(3, 4), (4, 3), (1, 2), (2, 1), (0, 0)]\n"
          ]
        }
      ]
    },
    {
      "cell_type": "code",
      "source": [
        "#49). Write a Python script to concatenate following dictionaries to create a new one.\n",
        "\n",
        "dic1={1:10, 2:20}\n",
        "dic2={3:30, 4:40}\n",
        "dic3={5:50,6:60}\n",
        "dic4 = {}\n",
        "for d in (dic1, dic2, dic3):\n",
        "  dic4.update(d)\n",
        "print(dic4)"
      ],
      "metadata": {
        "colab": {
          "base_uri": "https://localhost:8080/"
        },
        "id": "XgcUxwQLgnId",
        "outputId": "d7bdfe8e-4954-403c-88ae-8d46e3a8512d"
      },
      "execution_count": null,
      "outputs": [
        {
          "output_type": "stream",
          "name": "stdout",
          "text": [
            "{1: 10, 2: 20, 3: 30, 4: 40, 5: 50, 6: 60}\n"
          ]
        }
      ]
    },
    {
      "cell_type": "code",
      "source": [
        "#50). Write a Python script to check if a given key already exists in a dictionary.\n",
        "\n",
        "my_dict = {'apple': 2, 'banana': 3, 'cherry': 1}\n",
        "\n",
        "def key_exists(key, dictionary):\n",
        "    return key in dictionary\n",
        "\n",
        "key_to_check = 'banana'\n",
        "if key_exists(key_to_check, my_dict):\n",
        "    print(key_to_check,\"exists in the dictionary.\")\n",
        "else:\n",
        "    print(key_to_check,\"does not exist in the dictionary.\")\n"
      ],
      "metadata": {
        "colab": {
          "base_uri": "https://localhost:8080/"
        },
        "id": "v4hufrsZhLis",
        "outputId": "0368130b-56bd-4596-ddf1-4d06567b2133"
      },
      "execution_count": null,
      "outputs": [
        {
          "output_type": "stream",
          "name": "stdout",
          "text": [
            "banana exists in the dictionary.\n"
          ]
        }
      ]
    },
    {
      "cell_type": "markdown",
      "source": [
        "51). How Do You Traverse Through a Dictionary Object in Python?\n",
        "\n",
        "Ans :- Iterate through Keys: Use a for loop to access each key.\n",
        "\n",
        "python\n",
        "for key in my_dict:\n",
        "    print(key)\n",
        "Iterate through Values: Use the values() method.\n",
        "\n",
        "python\n",
        "for value in my_dict.values():\n",
        "    print(value)\n",
        "Iterate through Key-Value Pairs: Use the items() method.\n",
        "\n",
        "python\n",
        "for key, value in my_dict.items():\n",
        "    print(f\"{key}: {value}\")\n",
        "Using enumerate(): Get the index and key-value pairs.\n",
        "\n",
        "python\n",
        "for index, (key, value) in enumerate(my_dict.items()):\n",
        "    print(f\"Index {index}: {key} -> {value}\""
      ],
      "metadata": {
        "id": "Ue7vUB-KjA2N"
      }
    },
    {
      "cell_type": "markdown",
      "source": [
        "52). How Do You Check the Presence of a Key in A Dictionary?\n",
        "\n",
        "Ans :-summarize above message in 2 lines\n",
        "To check if a key exists in a Python dictionary, use the in keyword:\n",
        "\n",
        "if key in my_dict:\n",
        "    print(f\"'{key}' exists in the dictionary.\")\n",
        "else:\n",
        "    print(f\"'{key}' does not exist in the dictionary.\")"
      ],
      "metadata": {
        "id": "F_6vr93cjiiG"
      }
    },
    {
      "cell_type": "code",
      "source": [
        "#53). Write a Python script to print a dictionary where the keys are numbers between 1 and 15.\n",
        "\n",
        "my_dict = {i: i ** 0 for i in range(1, 16)}\n",
        "\n",
        "print(my_dict)"
      ],
      "metadata": {
        "colab": {
          "base_uri": "https://localhost:8080/"
        },
        "id": "j0G5zko3kE4g",
        "outputId": "cc5f16c1-5b04-49bd-f848-772c805c2be5"
      },
      "execution_count": null,
      "outputs": [
        {
          "output_type": "stream",
          "name": "stdout",
          "text": [
            "{1: 1, 2: 1, 3: 1, 4: 1, 5: 1, 6: 1, 7: 1, 8: 1, 9: 1, 10: 1, 11: 1, 12: 1, 13: 1, 14: 1, 15: 1}\n"
          ]
        }
      ]
    },
    {
      "cell_type": "code",
      "source": [
        "#54). Write a Python program to check multiple keys exists in a dictionary\n",
        "\n",
        "def check_keys_exist(dictionary, keys):\n",
        "    return all(key in dictionary for key in keys)\n",
        "\n",
        "my_dict = {'apple': 2, 'banana': 3, 'cherry': 1, 'date': 5}\n",
        "\n",
        "keys_to_check = ['apple', 'banana', 'fig']\n",
        "\n",
        "result = check_keys_exist(my_dict, keys_to_check)\n",
        "if result:\n",
        "    print(\"All keys exist in the dictionary.\")\n",
        "else:\n",
        "    print(\"Not all keys exist in the dictionary.\")\n"
      ],
      "metadata": {
        "colab": {
          "base_uri": "https://localhost:8080/"
        },
        "id": "rpiaaYMllQv2",
        "outputId": "5a13baf4-b14f-4e60-d371-f493093df86c"
      },
      "execution_count": null,
      "outputs": [
        {
          "output_type": "stream",
          "name": "stdout",
          "text": [
            "Not all keys exist in the dictionary.\n"
          ]
        }
      ]
    },
    {
      "cell_type": "code",
      "source": [
        "#55). Write a Python script to merge two Python dictionaries.\n",
        "\n",
        "dict1 = {'apple': 2, 'banana': 3}\n",
        "dict2 = {'cherry': 1, 'date': 5}\n",
        "\n",
        "merged_dict = dict1.copy()\n",
        "merged_dict.update(dict2)\n",
        "\n",
        "print(\"Merged Dictionary:\", merged_dict)\n"
      ],
      "metadata": {
        "colab": {
          "base_uri": "https://localhost:8080/"
        },
        "id": "B3LcffiFlvvy",
        "outputId": "250d4d46-f662-412c-fd06-6a4323fd6e02"
      },
      "execution_count": null,
      "outputs": [
        {
          "output_type": "stream",
          "name": "stdout",
          "text": [
            "Merged Dictionary: {'apple': 2, 'banana': 3, 'cherry': 1, 'date': 5}\n"
          ]
        }
      ]
    },
    {
      "cell_type": "code",
      "source": [
        "#56). Write a Python program to map two lists into a dictionary.\n",
        "\n",
        "keys = ['apple', 'banana', 'cherry']\n",
        "values = [2, 3, 1]\n",
        "\n",
        "my_dict = dict(zip(keys, values))\n",
        "\n",
        "print(\"Mapped Dictionary:\", my_dict)"
      ],
      "metadata": {
        "colab": {
          "base_uri": "https://localhost:8080/"
        },
        "id": "4pqdBBkdmBxB",
        "outputId": "4f93947d-52be-48c1-e9b8-0e57fec84a10"
      },
      "execution_count": null,
      "outputs": [
        {
          "output_type": "stream",
          "name": "stdout",
          "text": [
            "Mapped Dictionary: {'apple': 2, 'banana': 3, 'cherry': 1}\n"
          ]
        }
      ]
    },
    {
      "cell_type": "code",
      "source": [
        "#57). Write a Python program to find the highest 3 values in a dictionary\n",
        "\n",
        "my_dict = {'apple': 50, 'banana': 20, 'cherry': 30, 'date': 40, 'elderberry': 10}\n",
        "\n",
        "highest_three = sorted(my_dict.items(), key=lambda x: x[1], reverse=True)[:3]\n",
        "\n",
        "print(\"The highest three key-value pairs are:\")\n",
        "for key, value in highest_three:\n",
        "    print(f\"{key}: {value}\")\n"
      ],
      "metadata": {
        "colab": {
          "base_uri": "https://localhost:8080/"
        },
        "id": "AuzshEVfnCus",
        "outputId": "7c0df1e2-a0e9-4d7b-aa18-c529726fc472"
      },
      "execution_count": null,
      "outputs": [
        {
          "output_type": "stream",
          "name": "stdout",
          "text": [
            "The highest three key-value pairs are:\n",
            "apple: 50\n",
            "date: 40\n",
            "cherry: 30\n"
          ]
        }
      ]
    },
    {
      "cell_type": "code",
      "source": [
        "#58). Write a Python program to combine values in python list of dictionaries.Sample data: [{'item': 'item1', 'amount': 400}, {'item': 'item2', 'amount': 300}, o {'item': 'item1', 'amount': 750}]\n",
        "data = [{'item': 'item1', 'amount': 400},\n",
        "        {'item': 'item2', 'amount': 300},\n",
        "         {'item': 'item1', 'amount': 750}]\n",
        "\n",
        "def combine_values(data):\n",
        "    combined = {}\n",
        "    for entry in data:\n",
        "        item = entry['item']\n",
        "        amount = entry['amount']\n",
        "        if item in combined:\n",
        "            combined[item] += amount\n",
        "        else:\n",
        "            combined[item] = amount\n",
        "    return combined\n",
        "\n",
        "combined_data = combine_values(data)\n",
        "\n",
        "print(combined_data)"
      ],
      "metadata": {
        "colab": {
          "base_uri": "https://localhost:8080/"
        },
        "id": "yxHnDCugqIE1",
        "outputId": "b45a5af4-7af7-46b4-9224-ea4e14cfa46b"
      },
      "execution_count": null,
      "outputs": [
        {
          "output_type": "stream",
          "name": "stdout",
          "text": [
            "{'item1': 1150, 'item2': 300}\n"
          ]
        }
      ]
    },
    {
      "cell_type": "code",
      "source": [
        "#59). Write a Python program to create a dictionary from a string. Note: Track the count of the letters from the string.\n",
        "\n",
        "sample_string = \"w3resource\"\n",
        "\n",
        "def create_dict_from_string(s):\n",
        "    char_dict = {}\n",
        "    for char in s:\n",
        "        if char in char_dict:\n",
        "            char_dict[char] += 1\n",
        "        else:\n",
        "            char_dict[char] = 1\n",
        "    return char_dict\n",
        "\n",
        "result_dict = create_dict_from_string(sample_string)\n",
        "\n",
        "print(result_dict)"
      ],
      "metadata": {
        "colab": {
          "base_uri": "https://localhost:8080/"
        },
        "id": "GDiRRYHSrldq",
        "outputId": "7672d798-15fa-4770-b3f2-231c46064d37"
      },
      "execution_count": null,
      "outputs": [
        {
          "output_type": "stream",
          "name": "stdout",
          "text": [
            "{'w': 1, '3': 1, 'r': 2, 'e': 2, 's': 1, 'o': 1, 'u': 1, 'c': 1}\n"
          ]
        }
      ]
    },
    {
      "cell_type": "code",
      "source": [
        "#60). Write a Python function to calculate the factorial of a number (a non negative integer).\n",
        "\n",
        "def factorial(n):\n",
        "    if n == 0:\n",
        "        return 1\n",
        "    else:\n",
        "        return n * factorial(n - 1)\n",
        "\n",
        "num = 2\n",
        "print(f\"The factorial of {num} is {factorial(num)}\")"
      ],
      "metadata": {
        "colab": {
          "base_uri": "https://localhost:8080/"
        },
        "id": "tBI7MYj0sQJ4",
        "outputId": "0bf172a3-2823-482d-93e0-fa2d90d258f1"
      },
      "execution_count": null,
      "outputs": [
        {
          "output_type": "stream",
          "name": "stdout",
          "text": [
            "The factorial of 2 is 2\n"
          ]
        }
      ]
    },
    {
      "cell_type": "code",
      "source": [
        "#61). Write a Python function to check whether a number is in a given range.\n",
        "\n",
        "def is_in_range(number, start, end):\n",
        "    \"\"\"\n",
        "    Check if a number is within a range [start, end].\n",
        "    \"\"\"\n",
        "    return start <= number <= end\n",
        "\n",
        "number = 10\n",
        "start = 5\n",
        "end = 15\n",
        "if is_in_range(number, start, end):\n",
        "    print(f\"{number} is within the range [{start}, {end}]\")\n",
        "else:\n",
        "    print(f\"{number} is not within the range [{start}, {end}]\")\n"
      ],
      "metadata": {
        "colab": {
          "base_uri": "https://localhost:8080/"
        },
        "id": "g8JTl8BAsAyd",
        "outputId": "065987be-72d9-4819-eedc-afb2fefc4cf0"
      },
      "execution_count": null,
      "outputs": [
        {
          "output_type": "stream",
          "name": "stdout",
          "text": [
            "10 is within the range [5, 15]\n"
          ]
        }
      ]
    },
    {
      "cell_type": "code",
      "source": [
        "#62).Write a Python function to check whether a number is perfect or not.\n",
        "\n",
        "def is_perfect_number():\n",
        "    n = int(input(\"Enter a number: \"))\n",
        "\n",
        "    if n < 1:\n",
        "        print(n,\" is not a valid input for a perfect number.\")\n",
        "        return False\n",
        "\n",
        "    divisors_sum = sum(i for i in range(1, n) if n % i == 0)\n",
        "\n",
        "    if divisors_sum == n:\n",
        "        print(n,\" is a perfect number.\")\n",
        "    else:\n",
        "        print(n,\" is not a perfect number.\")\n",
        "\n",
        "is_perfect_number()"
      ],
      "metadata": {
        "colab": {
          "base_uri": "https://localhost:8080/"
        },
        "id": "a2nEHQGibKqQ",
        "outputId": "9331c557-0396-4874-9970-d65dc6676665"
      },
      "execution_count": null,
      "outputs": [
        {
          "output_type": "stream",
          "name": "stdout",
          "text": [
            "Enter a number: 28\n",
            "28  is a perfect number.\n"
          ]
        }
      ]
    },
    {
      "cell_type": "code",
      "source": [
        "#63).Write a Python function that checks whether a passed string is palindrome or not.\n",
        "\n",
        "pallendeom_string = input(\"Enter a string: \")\n",
        "def is_palindrome(s):\n",
        "    return s == s[::-1]\n",
        "\n",
        "if is_palindrome(pallendeom_string):\n",
        "    print(pallendeom_string,\" is a palindrome.\")\n",
        "else:\n",
        "  print(pallendeom_string,\" is not a palindrome.\")"
      ],
      "metadata": {
        "colab": {
          "base_uri": "https://localhost:8080/"
        },
        "id": "SyyXb-iIe5Kz",
        "outputId": "274fcf92-fd99-46e1-c417-d573d921c1a8"
      },
      "execution_count": null,
      "outputs": [
        {
          "output_type": "stream",
          "name": "stdout",
          "text": [
            "Enter a string: ffggff\n",
            "ffggff  is a palindrome.\n"
          ]
        }
      ]
    },
    {
      "cell_type": "markdown",
      "source": [
        "64).How Many Basic Types of Functions Are Available in Python?\n",
        "\n",
        "Ans:-In Python, there are two basic types of functions:\n",
        "\n",
        "Built-in Functions: These are functions that are pre-defined in Python and are always available for use. Examples include print(), len(), sum(), and many more.\n",
        "\n",
        "User-Defined Functions: These are functions that you can define yourself to perform specific tasks. You create them using the def keyword followed by the function name and parameters."
      ],
      "metadata": {
        "id": "MKHG2ztNhgTf"
      }
    },
    {
      "cell_type": "markdown",
      "source": [
        "65). How can you pick a random item from a list or tuple?\n",
        "\n",
        "Ans:- To pick a random item from a list or tuple in Python, use the random.choice() function from the random module:\n",
        "\n",
        "Import random: import random\n",
        "\n",
        "Define List or Tuple: Example list - [1, 2, 3, 4, 5]\n",
        "\n",
        "Select a random item: random.choice(my_list) or random.choice(my_tuple)"
      ],
      "metadata": {
        "id": "kJtazOw8iMiX"
      }
    },
    {
      "cell_type": "markdown",
      "source": [
        "66).How can you pick a random item from a range?\n",
        "\n",
        "Ans:-To pick a random item from a range in Python, you can use either random.randrange() or random.randint() from the random module:\n",
        "\n",
        "Using random.randrange(start, end): Picks a random integer from the range [start, end), excluding the end.\n",
        "\n",
        "Using random.randint(start, end): Picks a random integer from the range [start, end], including both start and end."
      ],
      "metadata": {
        "id": "KiNqBB4Viivw"
      }
    },
    {
      "cell_type": "markdown",
      "source": [
        "67).How can you get a random number in python?\n",
        "\n",
        "Ans:-To generate a random number in Python, use the random module:\n",
        "\n",
        "Random Integer: random.randint(start, end) - Inclusive range.\n",
        "\n",
        "Random Float: random.random() - Between 0.0 and 1.0.\n",
        "\n",
        "Random Float within a Range: random.uniform(start, end) - Any float in the range.\n",
        "\n",
        "Random Number from a Range: random.randrange(start, stop) - Excludes the stop value."
      ],
      "metadata": {
        "id": "j0goQVKvi_M6"
      }
    },
    {
      "cell_type": "markdown",
      "source": [
        "68).How will you set the starting value in generating random numbers?\n",
        "\n",
        "Ans:-To set the starting value for generating random numbers in Python, use random.seed(value). This ensures reproducibility of the random number sequence. Here’s how:\n",
        "\n",
        "Import the random module.\n",
        "\n",
        "Set the Seed using random.seed(value) where value is an integer.\n",
        "\n",
        "Generate random numbers using random functions like random.randint(), random.random(), or random.uniform()."
      ],
      "metadata": {
        "id": "l9YTA5Wbjazp"
      }
    },
    {
      "cell_type": "markdown",
      "source": [
        "69). How will you randomize the items of a list in place?\n",
        "\n",
        "Ans:-To randomize (shuffle) the items of a list in Python, use random.shuffle(). Here's a summary of the steps:\n",
        "\n",
        "Import the random module.\n",
        "\n",
        "Define the list you want to shuffle.\n",
        "\n",
        "Shuffle the list in place using random.shuffle(list).\n",
        "\n",
        "Print the shuffled list."
      ],
      "metadata": {
        "id": "A6Trn64Cj6Nw"
      }
    },
    {
      "cell_type": "markdown",
      "source": [
        "70). What is File function in python? What are keywords to create and write file.\n",
        "\n",
        "Ans:-To handle files in Python:\n",
        "\n",
        "Use the open() function with appropriate modes to create and write to files.\n",
        "\n",
        "Use write() to write strings and writelines() to write lists of strings.\n",
        "\n",
        "Don't forget to close the file using close() to ensure changes are saved."
      ],
      "metadata": {
        "id": "2IYivTV6ku-5"
      }
    },
    {
      "cell_type": "code",
      "source": [
        "#71).Write a Python program to read an entire text file.\n",
        "\n",
        "with open('example.txt', 'r') as file:\n",
        "    content = file.read()\n",
        "\n",
        "print(content)\n"
      ],
      "metadata": {
        "colab": {
          "base_uri": "https://localhost:8080/"
        },
        "id": "S45gIbkxiC9p",
        "outputId": "0fc55626-f7ad-447b-efd9-bc08af324bb1"
      },
      "execution_count": null,
      "outputs": [
        {
          "output_type": "stream",
          "name": "stdout",
          "text": [
            "Hello\n"
          ]
        }
      ]
    },
    {
      "cell_type": "code",
      "source": [
        "#72).Write a Python program to append text to a file and display the text.\n",
        "\n",
        "# Append text to the file\n",
        "with open('example.txt', 'a') as file:\n",
        "    file.write(\"This is the appended text.\\n\")\n",
        "\n",
        "# Read and display the content of the file\n",
        "with open('example.txt', 'r') as file:\n",
        "    content = file.read()\n",
        "    print(content)"
      ],
      "metadata": {
        "colab": {
          "base_uri": "https://localhost:8080/"
        },
        "id": "eyt6lSFal6F4",
        "outputId": "8df8f97a-ce09-41e5-8298-ea4023cda1cc"
      },
      "execution_count": null,
      "outputs": [
        {
          "output_type": "stream",
          "name": "stdout",
          "text": [
            "HelloThis is the appended text.\n",
            "\n"
          ]
        }
      ]
    },
    {
      "cell_type": "code",
      "source": [
        "#73).Write a Python program to read first n lines of a file\n",
        "\n",
        "with open('example.txt', 'r') as file:\n",
        "    n = 5\n",
        "    lines = file.readlines()\n",
        "    for line in lines[:n]:\n",
        "        print(line)"
      ],
      "metadata": {
        "colab": {
          "base_uri": "https://localhost:8080/"
        },
        "id": "jniWOLGigmvC",
        "outputId": "06f4ee1b-1216-4a3b-866a-dd2a6255c98c"
      },
      "execution_count": null,
      "outputs": [
        {
          "output_type": "stream",
          "name": "stdout",
          "text": [
            "h4uvruetis\n",
            "\n",
            "reyvscvtehf\n",
            "\n",
            "vfewctdgrh\n",
            "\n",
            "fteca reyvscvtehfg\n",
            "\n",
            "rvyuvafa\n"
          ]
        }
      ]
    },
    {
      "cell_type": "code",
      "source": [
        "#74).Write a Python program to read last n lines of a file.\n",
        "\n",
        "with open('example.txt', 'r') as file:\n",
        "    n = 2\n",
        "    lines = file.readlines()\n",
        "    for line in lines[-n:]:\n",
        "        print(line)"
      ],
      "metadata": {
        "colab": {
          "base_uri": "https://localhost:8080/"
        },
        "id": "OkBs2V7GhS1E",
        "outputId": "9802e584-4d1b-4219-e485-68c4936063b2"
      },
      "execution_count": null,
      "outputs": [
        {
          "output_type": "stream",
          "name": "stdout",
          "text": [
            "fteca reyvscvtehfg\n",
            "\n",
            "rvyuvafa\n"
          ]
        }
      ]
    },
    {
      "cell_type": "code",
      "source": [
        "#75).Write a Python program to read a file line by line and store it into a list\n",
        "\n",
        "with open('example.txt', 'r') as file:\n",
        "    lines = file.readlines()\n",
        "\n",
        "my_list = [line.strip() for line in lines]\n",
        "print(my_list)"
      ],
      "metadata": {
        "colab": {
          "base_uri": "https://localhost:8080/"
        },
        "id": "-auqhs4Xh6cJ",
        "outputId": "1378e998-97a5-477a-e44e-1e9a1ac136ee"
      },
      "execution_count": null,
      "outputs": [
        {
          "output_type": "stream",
          "name": "stdout",
          "text": [
            "['h4uvruetis', 'reyvscvtehf', 'vfewctdgrh', 'fteca reyvscvtehfg', 'rvyuvafa']\n"
          ]
        }
      ]
    },
    {
      "cell_type": "code",
      "source": [
        "#76).Write a Python program to read a file line by line store it into a variable\n",
        "\n",
        "with open('example.txt', 'r') as file:\n",
        "    lines = file.readlines()\n",
        "\n",
        "my_variable = ''.join([line.strip() for line in lines])\n",
        "print(my_variable)"
      ],
      "metadata": {
        "colab": {
          "base_uri": "https://localhost:8080/"
        },
        "id": "bVQ3KjywiLIA",
        "outputId": "df9694f3-e362-484b-d89c-26c8414aa8b5"
      },
      "execution_count": null,
      "outputs": [
        {
          "output_type": "stream",
          "name": "stdout",
          "text": [
            "h4uvruetisreyvscvtehfvfewctdgrhfteca reyvscvtehfgrvyuvafa\n"
          ]
        }
      ]
    },
    {
      "cell_type": "code",
      "source": [
        "#77).Write a python program to find the longest words\n",
        "\n",
        "with open('example.txt', 'r')as file:\n",
        "    words = file.read().split()\n",
        "\n",
        "longest_word = max(words, key=len)\n",
        "print(longest_word)"
      ],
      "metadata": {
        "colab": {
          "base_uri": "https://localhost:8080/"
        },
        "id": "Xgf2xI6-iWhk",
        "outputId": "e8476372-56b3-43ae-b857-943369c558c4"
      },
      "execution_count": null,
      "outputs": [
        {
          "output_type": "stream",
          "name": "stdout",
          "text": [
            "reyvscvtehfg\n"
          ]
        }
      ]
    },
    {
      "cell_type": "code",
      "source": [
        "#78).Write a Python program to count the number of lines in a text file.\n",
        "\n",
        "with open('example.txt', 'r') as file:\n",
        "    lines = file.readlines()\n",
        "\n",
        "line_count = len(lines)\n",
        "print(line_count)"
      ],
      "metadata": {
        "colab": {
          "base_uri": "https://localhost:8080/"
        },
        "id": "7dUCA08bi2Gq",
        "outputId": "77a6db72-2faf-4d90-e69b-301d85624a6e"
      },
      "execution_count": null,
      "outputs": [
        {
          "output_type": "stream",
          "name": "stdout",
          "text": [
            "5\n"
          ]
        }
      ]
    },
    {
      "cell_type": "code",
      "source": [
        "#79).Write a Python program to count the frequency of words in a file.\n",
        "\n",
        "from collections import Counter\n",
        "\n",
        "with open('example.txt', 'r') as file:\n",
        "    words = file.read().split()\n",
        "\n",
        "word_count = Counter(words)\n",
        "print(word_count)"
      ],
      "metadata": {
        "colab": {
          "base_uri": "https://localhost:8080/"
        },
        "id": "z4HOBCWWjBny",
        "outputId": "b4205039-b2c2-415d-b1e5-d89b11ff3b50"
      },
      "execution_count": null,
      "outputs": [
        {
          "output_type": "stream",
          "name": "stdout",
          "text": [
            "Counter({'h4uvruetis': 1, 'reyvscvtehf': 1, 'vfewctdgrh': 1, 'fteca': 1, 'reyvscvtehfg': 1, 'rvyuvafa': 1})\n"
          ]
        }
      ]
    },
    {
      "cell_type": "code",
      "source": [
        "#80).Write a Python program to write a list to a file\n",
        "\n",
        "with open('example.txt', 'w') as file:\n",
        "    my_list = ['apple', 'banana', 'cherry']\n",
        "    file.writelines('\\n'.join(my_list))\n",
        "    print(my_list)"
      ],
      "metadata": {
        "colab": {
          "base_uri": "https://localhost:8080/"
        },
        "id": "gBMQmNnGjNN4",
        "outputId": "ac38a185-0a64-402c-fa40-de17c2bcd212"
      },
      "execution_count": null,
      "outputs": [
        {
          "output_type": "stream",
          "name": "stdout",
          "text": [
            "['apple', 'banana', 'cherry']\n"
          ]
        }
      ]
    },
    {
      "cell_type": "code",
      "source": [
        "#81).Write a Python program to copy the contents of a file to another file.\n",
        "\n",
        "with open('example.txt', 'r') as source_file:\n",
        "    content = source_file.read()\n",
        "\n",
        "with open('destination.txt', 'w') as destination_file:\n",
        "    destination_file.write(content)\n",
        "with open('destination.txt', 'r') as destination_file:\n",
        "    destination_file.read()\n",
        "    print(content)\n"
      ],
      "metadata": {
        "colab": {
          "base_uri": "https://localhost:8080/"
        },
        "id": "NoIOBbMLkEAN",
        "outputId": "34c743cf-fc32-4e28-f163-d4f7fdc81467"
      },
      "execution_count": null,
      "outputs": [
        {
          "output_type": "stream",
          "name": "stdout",
          "text": [
            "apple\n",
            "banana\n",
            "cherry\n"
          ]
        }
      ]
    },
    {
      "cell_type": "markdown",
      "source": [
        "82).Explain Exception handling? What is an Error in Python?\n",
        "\n",
        "Ans:-Exception handling in Python uses `try`, `except`, `else`, and `finally` blocks to manage errors and ensure smooth execution. Errors in Python are categorized as syntax errors or exceptions (e.g., `ValueError`, `ZeroDivisionError`). Proper handling allows programs to continue running even when unexpected issues arise."
      ],
      "metadata": {
        "id": "TRi2UHdmlhfM"
      }
    },
    {
      "cell_type": "markdown",
      "source": [
        "83).How many except statements can a try-except block have? Name\n",
        "Some built-in exception classes\n",
        "\n",
        "Ans:-A `try-except` block in Python can have multiple `except` statements to handle various exceptions. Some built-in exception classes include `ValueError`, `TypeError`, `IndexError`, `KeyError`, `AttributeError`, `IOError`, `FileNotFoundError`, and `ZeroDivisionError`. These help in catching and managing different types of errors effectively."
      ],
      "metadata": {
        "id": "QQFliZHemGPl"
      }
    },
    {
      "cell_type": "markdown",
      "source": [
        "84).When will the else part of try-except-else be executed?\n",
        "\n",
        "Ans:-The `else` part of a `try-except-else` block executes only if no exceptions are raised in the `try` block. This means the `else` block runs when the code in the `try` block completes successfully. If an exception occurs, the `else` block is skipped."
      ],
      "metadata": {
        "id": "PNIs8XvxmfdL"
      }
    },
    {
      "cell_type": "markdown",
      "source": [
        "85).Can one block of except statements handle multiple exception?\n",
        "\n",
        "Ans:-Yes, a single `except` block can handle multiple exceptions by specifying a tuple of exception classes. This allows the block to catch any of the specified exceptions and handle them together. For example, `except (ValueError, ZeroDivisionError) as e:` will catch both `ValueError` and `ZeroDivisionError`. This approach simplifies handling related exceptions with the same logic."
      ],
      "metadata": {
        "id": "j9_xK3IlmzZj"
      }
    },
    {
      "cell_type": "markdown",
      "source": [
        "86).When is the finally block executed?\n",
        "\n",
        "Ans:-The `finally` block is executed regardless of whether an exception occurs or not. It runs after the `try` and `except` blocks, ensuring that cleanup actions are performed. This guarantees that the code in the `finally` block always executes, even if an error was caught or if there were no exceptions at all."
      ],
      "metadata": {
        "id": "3qdxHboknIvR"
      }
    },
    {
      "cell_type": "markdown",
      "source": [
        "87).What happens when „1‟== 1 is executed?\n",
        "\n",
        "Ans:-When `\"1\" == 1` is executed in Python, it evaluates to `False` because they are of different types (string and integer) and not considered equal. Python does not automatically convert types for equality checks. This demonstrates Python’s strict type comparison. For example, `print(\"1\" == 1)` will output `False`."
      ],
      "metadata": {
        "id": "iefEzF_GnfMV"
      }
    },
    {
      "cell_type": "markdown",
      "source": [
        "88).How Do You Handle Exceptions with Try/Except/Finally in Python?\n",
        "Explain with coding snippets.\n",
        "\n",
        "Handling exceptions in Python involves using `try`, `except`, and `finally` blocks to manage errors and ensure certain code is executed regardless of what happens. Here’s a comprehensive explanation with code snippets:\n",
        "\n",
        "### 1. Basic Try/Except\n",
        "try:\n",
        "    # Code that might raise an exception\n",
        "    number = int(input(\"Enter a number: \"))\n",
        "    result = 10 / number\n",
        "except ValueError:\n",
        "    # Handle specific exception\n",
        "    print(\"Invalid input. Please enter a number.\")\n",
        "except ZeroDivisionError:\n",
        "    # Handle specific exception\n",
        "    print(\"Division by zero is not allowed.\")\n",
        "### 2. Adding Else\n",
        "try:\n",
        "    # Code that might raise an exception\n",
        "    number = int(input(\"Enter a number: \"))\n",
        "    result = 10 / number\n",
        "except ValueError:\n",
        "    # Handle specific exception\n",
        "    print(\"Invalid input. Please enter a number.\")\n",
        "except ZeroDivisionError:\n",
        "    # Handle specific exception\n",
        "    print(\"Division by zero is not allowed.\")\n",
        "else:\n",
        "    # Code to run if no exceptions occur\n",
        "    print(\"The result is:\", result)\n",
        "\n",
        "### 3. Using Finally\n",
        "try:\n",
        "    # Code that might raise an exception\n",
        "    number = int(input(\"Enter a number: \"))\n",
        "    result = 10 / number\n",
        "except ValueError:\n",
        "    # Handle specific exception\n",
        "    print(\"Invalid input. Please enter a number.\")\n",
        "except ZeroDivisionError:\n",
        "    # Handle specific exception\n",
        "    print(\"Division by zero is not allowed.\")\n",
        "else:\n",
        "    # Code to run if no exceptions occur\n",
        "    print(\"The result is:\", result)\n",
        "finally:\n",
        "    # Code that runs no matter what\n",
        "    print(\"Execution completed.\")"
      ],
      "metadata": {
        "id": "4z0qECXfnvnw"
      }
    },
    {
      "cell_type": "code",
      "source": [
        "#89).Write python program that user to enter only odd numbers, else will raise an exception.\n",
        "\n",
        "while True:\n",
        "    try:\n",
        "        user_input = int(input(\"Enter an odd number: \"))\n",
        "        if user_input % 2 == 0:\n",
        "            raise ValueError(\"Even number entered. Please enter an odd number.\")\n",
        "        else:\n",
        "            print(\"Valid odd number entered:\", user_input)\n",
        "            break\n",
        "    except ValueError as e:\n",
        "        print(e)\n",
        "        print(\"Please try again.\")"
      ],
      "metadata": {
        "colab": {
          "base_uri": "https://localhost:8080/"
        },
        "id": "tqrZ6uNDlNkK",
        "outputId": "6638c25a-f6ba-4c8f-ef72-2f2222146e61"
      },
      "execution_count": null,
      "outputs": [
        {
          "output_type": "stream",
          "name": "stdout",
          "text": [
            "Enter an odd number: 25\n",
            "Valid odd number entered: 25\n"
          ]
        }
      ]
    }
  ]
}